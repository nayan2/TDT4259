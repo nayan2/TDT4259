{
 "cells": [
  {
   "cell_type": "code",
   "execution_count": 1,
   "metadata": {},
   "outputs": [],
   "source": [
    "import pandas as pd\n",
    "import numpy as np\n",
    "import matplotlib.pyplot as plt\n",
    "import seaborn as sns\n",
    "from sklearn.metrics import mean_squared_error\n",
    "from sklearn.preprocessing import FunctionTransformer\n",
    "import datetime\n",
    "from numpy import array"
   ]
  },
  {
   "cell_type": "code",
   "execution_count": 103,
   "metadata": {},
   "outputs": [],
   "source": [
    "from sklearn.model_selection import train_test_split\n",
    "from sklearn.preprocessing import MinMaxScaler\n",
    "from sklearn.linear_model import LinearRegression"
   ]
  },
  {
   "cell_type": "code",
   "execution_count": 96,
   "metadata": {},
   "outputs": [],
   "source": [
    "from tensorflow.keras.layers import Dense, LSTM, Dropout, Bidirectional\n",
    "from tensorflow.keras.models import Sequential\n",
    "from tensorflow.keras.callbacks import EarlyStopping\n",
    "from tensorflow.keras.preprocessing.sequence import TimeseriesGenerator"
   ]
  },
  {
   "cell_type": "code",
   "execution_count": 4,
   "metadata": {},
   "outputs": [],
   "source": [
    "def sin_transformer(period):\n",
    "\treturn FunctionTransformer(lambda x: np.sin(x / period * 2 * np.pi))\n",
    "\n",
    "def cos_transformer(period):\n",
    "\treturn FunctionTransformer(lambda x: np.cos(x / period * 2 * np.pi))"
   ]
  },
  {
   "cell_type": "code",
   "execution_count": 5,
   "metadata": {},
   "outputs": [],
   "source": [
    "police_shooting = pd.read_csv('US Police shootings in from 2015-22_Clean.csv')\n",
    "police_shooting['date'] = pd.to_datetime(police_shooting['date'])\n",
    "us_population_by_state = pd.read_csv('nst-est2021-popchg2010-2022.csv')"
   ]
  },
  {
   "cell_type": "code",
   "execution_count": 6,
   "metadata": {},
   "outputs": [
    {
     "data": {
      "text/html": [
       "<div>\n",
       "<style scoped>\n",
       "    .dataframe tbody tr th:only-of-type {\n",
       "        vertical-align: middle;\n",
       "    }\n",
       "\n",
       "    .dataframe tbody tr th {\n",
       "        vertical-align: top;\n",
       "    }\n",
       "\n",
       "    .dataframe thead th {\n",
       "        text-align: right;\n",
       "    }\n",
       "</style>\n",
       "<table border=\"1\" class=\"dataframe\">\n",
       "  <thead>\n",
       "    <tr style=\"text-align: right;\">\n",
       "      <th></th>\n",
       "      <th>date</th>\n",
       "      <th>armed</th>\n",
       "      <th>age</th>\n",
       "      <th>race</th>\n",
       "      <th>city</th>\n",
       "      <th>state</th>\n",
       "      <th>signs_of_mental_illness</th>\n",
       "      <th>threat_level</th>\n",
       "      <th>flee</th>\n",
       "      <th>body_camera</th>\n",
       "      <th>longitude</th>\n",
       "      <th>latitude</th>\n",
       "    </tr>\n",
       "  </thead>\n",
       "  <tbody>\n",
       "    <tr>\n",
       "      <th>0</th>\n",
       "      <td>2015-01-02</td>\n",
       "      <td>gun</td>\n",
       "      <td>53.0</td>\n",
       "      <td>American Native</td>\n",
       "      <td>Shelton</td>\n",
       "      <td>Washington</td>\n",
       "      <td>True</td>\n",
       "      <td>attack</td>\n",
       "      <td>Not fleeing</td>\n",
       "      <td>False</td>\n",
       "      <td>-123.122</td>\n",
       "      <td>47.247</td>\n",
       "    </tr>\n",
       "    <tr>\n",
       "      <th>1</th>\n",
       "      <td>2015-01-02</td>\n",
       "      <td>gun</td>\n",
       "      <td>47.0</td>\n",
       "      <td>White</td>\n",
       "      <td>Aloha</td>\n",
       "      <td>Oregon</td>\n",
       "      <td>False</td>\n",
       "      <td>attack</td>\n",
       "      <td>Not fleeing</td>\n",
       "      <td>False</td>\n",
       "      <td>-122.892</td>\n",
       "      <td>45.487</td>\n",
       "    </tr>\n",
       "    <tr>\n",
       "      <th>2</th>\n",
       "      <td>2015-01-03</td>\n",
       "      <td>unarmed</td>\n",
       "      <td>23.0</td>\n",
       "      <td>Hispanic</td>\n",
       "      <td>Wichita</td>\n",
       "      <td>Kansas</td>\n",
       "      <td>False</td>\n",
       "      <td>other</td>\n",
       "      <td>Not fleeing</td>\n",
       "      <td>False</td>\n",
       "      <td>-97.281</td>\n",
       "      <td>37.695</td>\n",
       "    </tr>\n",
       "    <tr>\n",
       "      <th>3</th>\n",
       "      <td>2015-01-04</td>\n",
       "      <td>toy gun</td>\n",
       "      <td>32.0</td>\n",
       "      <td>White</td>\n",
       "      <td>San Francisco</td>\n",
       "      <td>California</td>\n",
       "      <td>True</td>\n",
       "      <td>attack</td>\n",
       "      <td>Not fleeing</td>\n",
       "      <td>False</td>\n",
       "      <td>-122.422</td>\n",
       "      <td>37.763</td>\n",
       "    </tr>\n",
       "    <tr>\n",
       "      <th>4</th>\n",
       "      <td>2015-01-04</td>\n",
       "      <td>miscellaneous lethal weapons</td>\n",
       "      <td>39.0</td>\n",
       "      <td>Hispanic</td>\n",
       "      <td>Evans</td>\n",
       "      <td>Colorado</td>\n",
       "      <td>False</td>\n",
       "      <td>attack</td>\n",
       "      <td>Not fleeing</td>\n",
       "      <td>False</td>\n",
       "      <td>-104.692</td>\n",
       "      <td>40.384</td>\n",
       "    </tr>\n",
       "    <tr>\n",
       "      <th>...</th>\n",
       "      <td>...</td>\n",
       "      <td>...</td>\n",
       "      <td>...</td>\n",
       "      <td>...</td>\n",
       "      <td>...</td>\n",
       "      <td>...</td>\n",
       "      <td>...</td>\n",
       "      <td>...</td>\n",
       "      <td>...</td>\n",
       "      <td>...</td>\n",
       "      <td>...</td>\n",
       "      <td>...</td>\n",
       "    </tr>\n",
       "    <tr>\n",
       "      <th>7724</th>\n",
       "      <td>2022-09-07</td>\n",
       "      <td>sharp object</td>\n",
       "      <td>35.0</td>\n",
       "      <td>NG</td>\n",
       "      <td>Flagstaff</td>\n",
       "      <td>Arizona</td>\n",
       "      <td>False</td>\n",
       "      <td>other</td>\n",
       "      <td>Foot</td>\n",
       "      <td>False</td>\n",
       "      <td>-111.584</td>\n",
       "      <td>35.224</td>\n",
       "    </tr>\n",
       "    <tr>\n",
       "      <th>7725</th>\n",
       "      <td>2022-09-07</td>\n",
       "      <td>gun</td>\n",
       "      <td>35.0</td>\n",
       "      <td>White</td>\n",
       "      <td>Springville</td>\n",
       "      <td>Alabama</td>\n",
       "      <td>False</td>\n",
       "      <td>attack</td>\n",
       "      <td>Car</td>\n",
       "      <td>False</td>\n",
       "      <td>-86.472</td>\n",
       "      <td>33.775</td>\n",
       "    </tr>\n",
       "    <tr>\n",
       "      <th>7726</th>\n",
       "      <td>2022-09-07</td>\n",
       "      <td>knife</td>\n",
       "      <td>61.0</td>\n",
       "      <td>Black</td>\n",
       "      <td>St. Louis</td>\n",
       "      <td>Missouri</td>\n",
       "      <td>False</td>\n",
       "      <td>other</td>\n",
       "      <td>Not fleeing</td>\n",
       "      <td>False</td>\n",
       "      <td>-90.290</td>\n",
       "      <td>38.668</td>\n",
       "    </tr>\n",
       "    <tr>\n",
       "      <th>7727</th>\n",
       "      <td>2022-09-07</td>\n",
       "      <td>gun</td>\n",
       "      <td>27.0</td>\n",
       "      <td>NG</td>\n",
       "      <td>Washington County</td>\n",
       "      <td>Tennessee</td>\n",
       "      <td>False</td>\n",
       "      <td>attack</td>\n",
       "      <td>Other</td>\n",
       "      <td>False</td>\n",
       "      <td>-82.539</td>\n",
       "      <td>36.309</td>\n",
       "    </tr>\n",
       "    <tr>\n",
       "      <th>7728</th>\n",
       "      <td>2022-09-07</td>\n",
       "      <td>gun</td>\n",
       "      <td>30.0</td>\n",
       "      <td>NG</td>\n",
       "      <td>Columbus</td>\n",
       "      <td>Georgia</td>\n",
       "      <td>False</td>\n",
       "      <td>attack</td>\n",
       "      <td>Foot</td>\n",
       "      <td>False</td>\n",
       "      <td>-112.152</td>\n",
       "      <td>-112.152</td>\n",
       "    </tr>\n",
       "  </tbody>\n",
       "</table>\n",
       "<p>7729 rows × 12 columns</p>\n",
       "</div>"
      ],
      "text/plain": [
       "           date                         armed   age             race  \\\n",
       "0    2015-01-02                           gun  53.0  American Native   \n",
       "1    2015-01-02                           gun  47.0            White   \n",
       "2    2015-01-03                       unarmed  23.0         Hispanic   \n",
       "3    2015-01-04                       toy gun  32.0            White   \n",
       "4    2015-01-04  miscellaneous lethal weapons  39.0         Hispanic   \n",
       "...         ...                           ...   ...              ...   \n",
       "7724 2022-09-07                  sharp object  35.0               NG   \n",
       "7725 2022-09-07                           gun  35.0            White   \n",
       "7726 2022-09-07                         knife  61.0            Black   \n",
       "7727 2022-09-07                           gun  27.0               NG   \n",
       "7728 2022-09-07                           gun  30.0               NG   \n",
       "\n",
       "                   city       state  signs_of_mental_illness threat_level  \\\n",
       "0               Shelton  Washington                     True       attack   \n",
       "1                 Aloha      Oregon                    False       attack   \n",
       "2               Wichita      Kansas                    False        other   \n",
       "3         San Francisco  California                     True       attack   \n",
       "4                 Evans    Colorado                    False       attack   \n",
       "...                 ...         ...                      ...          ...   \n",
       "7724          Flagstaff     Arizona                    False        other   \n",
       "7725        Springville     Alabama                    False       attack   \n",
       "7726          St. Louis    Missouri                    False        other   \n",
       "7727  Washington County   Tennessee                    False       attack   \n",
       "7728           Columbus     Georgia                    False       attack   \n",
       "\n",
       "             flee  body_camera  longitude  latitude  \n",
       "0     Not fleeing        False   -123.122    47.247  \n",
       "1     Not fleeing        False   -122.892    45.487  \n",
       "2     Not fleeing        False    -97.281    37.695  \n",
       "3     Not fleeing        False   -122.422    37.763  \n",
       "4     Not fleeing        False   -104.692    40.384  \n",
       "...           ...          ...        ...       ...  \n",
       "7724         Foot        False   -111.584    35.224  \n",
       "7725          Car        False    -86.472    33.775  \n",
       "7726  Not fleeing        False    -90.290    38.668  \n",
       "7727        Other        False    -82.539    36.309  \n",
       "7728         Foot        False   -112.152  -112.152  \n",
       "\n",
       "[7729 rows x 12 columns]"
      ]
     },
     "execution_count": 6,
     "metadata": {},
     "output_type": "execute_result"
    }
   ],
   "source": [
    "police_shooting"
   ]
  },
  {
   "cell_type": "code",
   "execution_count": 7,
   "metadata": {},
   "outputs": [],
   "source": [
    "def filter_data(df: pd.DataFrame, state: str = None, race: str= None, armed: str = None, flee: str = None):    \n",
    "    columns: list[str] = ['date']\n",
    "    query: list[str] = []\n",
    "    \n",
    "    if state:\n",
    "        columns.append('state')\n",
    "        query.append(f'state == \"{state}\"')\n",
    "    if race:\n",
    "        columns.append('race')\n",
    "        query.append(f'race == \"{race}\"')\n",
    "    if armed:\n",
    "        columns.append('armed')\n",
    "        query.append(f'armed == \"{armed}\"')\n",
    "    if flee:\n",
    "        columns.append('flee')\n",
    "        query.append(f'flee == \"{flee}\"')\n",
    "    \n",
    "    df = df[columns].reset_index(drop=True)\n",
    "    df = df.query(' and '.join(query))\n",
    "    return df"
   ]
  },
  {
   "cell_type": "code",
   "execution_count": 8,
   "metadata": {},
   "outputs": [],
   "source": [
    "def resample(df: pd.DataFrame, sample: str):\n",
    "    df = df.set_index('date')\n",
    "    \n",
    "    df1 = df.resample(sample).agg({ df.columns[0]: 'size' })\n",
    "    df1 = df1.rename({df.columns[0]: 'count'}, axis=1)\n",
    "    # for index, column in enumerate(df.columns):\n",
    "    #     df1.insert(index, column, df[column].iloc[0])\n",
    "    return df1"
   ]
  },
  {
   "cell_type": "code",
   "execution_count": 9,
   "metadata": {},
   "outputs": [],
   "source": [
    "def extract_date_feature(date: datetime.datetime):\n",
    "    return sin_transformer(12).fit_transform(date.month), cos_transformer(12).fit_transform(date.month), sin_transformer(365).fit_transform(date.timetuple().tm_yday), cos_transformer(12).fit_transform(date.timetuple().tm_yday)"
   ]
  },
  {
   "cell_type": "code",
   "execution_count": 10,
   "metadata": {},
   "outputs": [],
   "source": [
    "def extract_date_feature_from_df(df: pd.DataFrame):\n",
    "    df.insert(0, \"month\", df.index.month)\n",
    "    df.insert(1, \"day_of_year\", df.index.day_of_year)\n",
    "    \n",
    "    df.insert(2, \"month_sin\", sin_transformer(12).fit_transform(df[\"month\"]))\n",
    "    df.insert(3, \"month_cos\", cos_transformer(12).fit_transform(df[\"month\"]))\n",
    "\n",
    "    df.insert(4, \"day_sin\", sin_transformer(365).fit_transform(df[\"day_of_year\"]))\n",
    "    df.insert(5, \"day_cos\", cos_transformer(365).fit_transform(df[\"day_of_year\"]))\n",
    "    \n",
    "    df.drop(columns=['month', 'day_of_year'], inplace=True)\n",
    "    \n",
    "    return df"
   ]
  },
  {
   "cell_type": "code",
   "execution_count": 164,
   "metadata": {},
   "outputs": [],
   "source": [
    "dataset = extract_date_feature_from_df(resample(filter_data(police_shooting, state='Washington', race='White'), 'W'))\n",
    "dataset = dataset.rename({'count': 'y'}, axis=1)\n",
    "dataset['y'] = dataset['y'].astype(int)"
   ]
  },
  {
   "cell_type": "code",
   "execution_count": 165,
   "metadata": {},
   "outputs": [],
   "source": [
    "for i in range(1, 6):\n",
    "    dataset['y_{}'.format(i)] = dataset.y.shift(i).fillna(0).astype(int)\n",
    "dataset = dataset.iloc[5:, :].reset_index(drop=True)"
   ]
  },
  {
   "cell_type": "code",
   "execution_count": 166,
   "metadata": {},
   "outputs": [],
   "source": [
    "new_col_list = ['month_sin', 'month_cos', 'day_sin', 'day_cos', 'y_1', 'y_2', 'y_3', 'y_4', 'y_5', 'y']\n",
    "dataset = dataset.reindex(columns=new_col_list)"
   ]
  },
  {
   "cell_type": "code",
   "execution_count": 167,
   "metadata": {},
   "outputs": [],
   "source": [
    "dataset_train, dataset_test = train_test_split(dataset, test_size=0.30, random_state=0)"
   ]
  },
  {
   "cell_type": "code",
   "execution_count": 168,
   "metadata": {},
   "outputs": [],
   "source": [
    "# split a multivariate sequence into samples\n",
    "def split_sequences(sequences, n_steps):\n",
    "\tX, y = [], []\n",
    "\tfor i in range(len(sequences)):\n",
    "\t\t# find the end of this pattern\n",
    "\t\tend_ix = i + n_steps\n",
    "\t\t# check if we are beyond the dataset\n",
    "\t\tif end_ix > len(sequences)-1:\n",
    "\t\t\tbreak\n",
    "\t\t# gather input and output parts of the pattern\n",
    "\t\tX.append(sequences.iloc[i:end_ix, :-1]), y.append(sequences.iloc[end_ix-1, -1])\n",
    "\treturn np.array(X), np.array(y)"
   ]
  },
  {
   "cell_type": "code",
   "execution_count": 169,
   "metadata": {},
   "outputs": [],
   "source": [
    "X_train, Y_train = split_sequences(dataset_train, 24)\n",
    "X_test, Y_test = split_sequences(dataset_test, 24)"
   ]
  },
  {
   "cell_type": "code",
   "execution_count": 171,
   "metadata": {},
   "outputs": [
    {
     "name": "stdout",
     "output_type": "stream",
     "text": [
      "Model: \"sequential_18\"\n",
      "_________________________________________________________________\n",
      " Layer (type)                Output Shape              Param #   \n",
      "=================================================================\n",
      " lstm_23 (LSTM)              (None, 100)               44000     \n",
      "                                                                 \n",
      " dense_18 (Dense)            (None, 1)                 101       \n",
      "                                                                 \n",
      "=================================================================\n",
      "Total params: 44,101\n",
      "Trainable params: 44,101\n",
      "Non-trainable params: 0\n",
      "_________________________________________________________________\n"
     ]
    }
   ],
   "source": [
    "simodel = Sequential([\n",
    "    LSTM(100, activation='relu', input_shape=(X_train.shape[1], X_train.shape[2])),\n",
    "    Dense(1)\n",
    "])\n",
    "simodel.compile(loss='mse', optimizer='adam')\n",
    "simodel.summary()"
   ]
  },
  {
   "cell_type": "code",
   "execution_count": 172,
   "metadata": {},
   "outputs": [
    {
     "name": "stdout",
     "output_type": "stream",
     "text": [
      "Epoch 1/30\n",
      "57/57 [==============================] - 1s 11ms/step - loss: 0.2099 - val_loss: 0.3438\n",
      "Epoch 2/30\n",
      "57/57 [==============================] - 0s 7ms/step - loss: 0.2021 - val_loss: 0.3532\n",
      "Epoch 3/30\n",
      "57/57 [==============================] - 0s 8ms/step - loss: 0.1982 - val_loss: 0.3647\n",
      "Epoch 4/30\n",
      "57/57 [==============================] - 0s 8ms/step - loss: 0.1948 - val_loss: 0.3824\n",
      "Epoch 5/30\n",
      "57/57 [==============================] - 0s 9ms/step - loss: 0.1905 - val_loss: 0.4043\n",
      "Epoch 6/30\n",
      "57/57 [==============================] - 0s 7ms/step - loss: 0.1855 - val_loss: 0.5444\n",
      "Epoch 7/30\n",
      "57/57 [==============================] - 1s 9ms/step - loss: 0.1799 - val_loss: 1.4182\n",
      "Epoch 8/30\n",
      "57/57 [==============================] - 1s 9ms/step - loss: 0.1760 - val_loss: 0.4927\n",
      "Epoch 9/30\n",
      "57/57 [==============================] - 0s 7ms/step - loss: 0.1725 - val_loss: 0.3702\n",
      "Epoch 10/30\n",
      "57/57 [==============================] - 0s 7ms/step - loss: 0.1625 - val_loss: 0.4315\n",
      "Epoch 11/30\n",
      "57/57 [==============================] - 0s 8ms/step - loss: 0.1573 - val_loss: 0.5800\n"
     ]
    }
   ],
   "source": [
    "si_mode_history = simodel.fit(X_train, Y_train, epochs=30, batch_size=4, validation_data=(X_test, Y_test), callbacks=[EarlyStopping(monitor='val_loss', patience=10)], verbose=1, shuffle=False)"
   ]
  },
  {
   "cell_type": "code",
   "execution_count": 173,
   "metadata": {},
   "outputs": [
    {
     "data": {
      "image/png": "[encoded data removed]",
      "text/plain": [
       "<Figure size 2000x1500 with 1 Axes>"
      ]
     },
     "metadata": {},
     "output_type": "display_data"
    }
   ],
   "source": [
    "plt.figure(figsize=(20,15))\n",
    "plt.plot(si_mode_history.history['loss'], label='Training Loss')\n",
    "plt.title('model loss')\n",
    "plt.ylabel('loss')\n",
    "plt.xlabel('epochs')\n",
    "plt.legend(loc='upper right')\n",
    "plt.show()"
   ]
  },
  {
   "cell_type": "code",
   "execution_count": 174,
   "metadata": {},
   "outputs": [
    {
     "name": "stdout",
     "output_type": "stream",
     "text": [
      "3/3 [==============================] - 0s 6ms/step\n"
     ]
    }
   ],
   "source": [
    "prediction_result = simodel.predict(X_test)"
   ]
  },
  {
   "cell_type": "code",
   "execution_count": 175,
   "metadata": {},
   "outputs": [
    {
     "data": {
      "text/plain": [
       "array([0, 0, 0, 0, 0, 0, 0, 0, 0, 0, 0, 0, 0, 0, 0, 0, 0, 0, 0, 0, 0, 0,\n",
       "       0, 0, 0, 0, 0, 0, 0, 0, 0, 0, 0, 0, 0, 0, 0, 0, 0, 0, 0, 0, 0, 0,\n",
       "       0, 0, 1, 1, 1, 1, 1, 1, 0, 0, 1, 0, 0, 0, 0, 0, 0, 0, 0, 0, 0, 0,\n",
       "       0, 0, 0, 0, 0, 0, 0, 0, 0, 0, 0, 0, 0, 0, 0, 0, 0, 0, 0])"
      ]
     },
     "execution_count": 175,
     "metadata": {},
     "output_type": "execute_result"
    }
   ],
   "source": [
    "prediction_result.flatten().astype(int)"
   ]
  },
  {
   "cell_type": "code",
   "execution_count": 176,
   "metadata": {},
   "outputs": [
    {
     "data": {
      "text/plain": [
       "array([1, 0, 0, 1, 1, 0, 0, 0, 0, 2, 2, 2, 1, 0, 0, 0, 1, 0, 0, 1, 0, 0,\n",
       "       0, 0, 1, 0, 0, 0, 0, 0, 0, 0, 0, 0, 0, 1, 1, 0, 0, 0, 0, 0, 0, 0,\n",
       "       0, 0, 0, 0, 0, 0, 0, 0, 0, 0, 0, 0, 0, 1, 0, 0, 0, 0, 0, 0, 0, 0,\n",
       "       0, 1, 0, 0, 0, 0, 0, 0, 1, 0, 1, 0, 2, 2, 0, 1, 0, 1, 0])"
      ]
     },
     "execution_count": 176,
     "metadata": {},
     "output_type": "execute_result"
    }
   ],
   "source": [
    "Y_test"
   ]
  },
  {
   "cell_type": "code",
   "execution_count": 177,
   "metadata": {},
   "outputs": [
    {
     "name": "stdout",
     "output_type": "stream",
     "text": [
      "Test Mean Absolute Error: 0.5800297892699047\n"
     ]
    }
   ],
   "source": [
    "print('Test Mean Absolute Error:', mean_squared_error(Y_test, prediction_result.flatten()))"
   ]
  }
 ],
 "metadata": {
  "kernelspec": {
   "display_name": "Python 3.9.12 ('spoorassignment')",
   "language": "python",
   "name": "python3"
  },
  "language_info": {
   "codemirror_mode": {
    "name": "ipython",
    "version": 3
   },
   "file_extension": ".py",
   "mimetype": "text/x-python",
   "name": "python",
   "nbconvert_exporter": "python",
   "pygments_lexer": "ipython3",
   "version": "3.9.12"
  },
  "orig_nbformat": 4,
  "vscode": {
   "interpreter": {
    "hash": "2cb88af4b5c1d307a920c455113d10d0b6b11af2cc1a8de9848463d20000563c"
   }
  }
 },
 "nbformat": 4,
 "nbformat_minor": 2
}
