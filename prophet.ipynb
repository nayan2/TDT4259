{
 "cells": [
  {
   "cell_type": "code",
   "execution_count": 1,
   "metadata": {},
   "outputs": [],
   "source": [
    "import pandas as pd\n",
    "import numpy as np\n",
    "import matplotlib.pyplot as plt\n",
    "import seaborn as sns\n",
    "from sklearn.metrics import mean_squared_error\n",
    "from sklearn.preprocessing import FunctionTransformer\n",
    "import datetime\n",
    "from numpy import array"
   ]
  },
  {
   "cell_type": "code",
   "execution_count": 2,
   "metadata": {},
   "outputs": [],
   "source": [
    "from sklearn.model_selection import train_test_split\n",
    "from sklearn.preprocessing import MinMaxScaler\n",
    "from sklearn.linear_model import LinearRegression"
   ]
  },
  {
   "cell_type": "code",
   "execution_count": 3,
   "metadata": {},
   "outputs": [],
   "source": [
    "from tensorflow.keras.layers import Dense, LSTM, Dropout, Bidirectional\n",
    "from tensorflow.keras.models import Sequential\n",
    "from tensorflow.keras.callbacks import EarlyStopping\n",
    "from tensorflow.keras.preprocessing.sequence import TimeseriesGenerator\n",
    "from prophet import Prophet"
   ]
  },
  {
   "cell_type": "code",
   "execution_count": 4,
   "metadata": {},
   "outputs": [],
   "source": [
    "def sin_transformer(period):\n",
    "\treturn FunctionTransformer(lambda x: np.sin(x / period * 2 * np.pi))\n",
    "\n",
    "def cos_transformer(period):\n",
    "\treturn FunctionTransformer(lambda x: np.cos(x / period * 2 * np.pi))"
   ]
  },
  {
   "cell_type": "code",
   "execution_count": 5,
   "metadata": {},
   "outputs": [],
   "source": [
    "police_shooting = pd.read_csv('US Police shootings in from 2015-22_Clean.csv')\n",
    "police_shooting['date'] = pd.to_datetime(police_shooting['date'])\n",
    "us_population_by_state = pd.read_csv('nst-est2021-popchg2010-2022.csv')"
   ]
  },
  {
   "cell_type": "code",
   "execution_count": 6,
   "metadata": {},
   "outputs": [],
   "source": [
    "available_states = police_shooting['state'].unique()\n",
    "available_races = police_shooting['race'].unique()\n",
    "available_arms = police_shooting['armed'].unique()\n",
    "available_flee = police_shooting['flee'].unique()"
   ]
  },
  {
   "cell_type": "code",
   "execution_count": 7,
   "metadata": {},
   "outputs": [
    {
     "data": {
      "text/html": [
       "<div>\n",
       "<style scoped>\n",
       "    .dataframe tbody tr th:only-of-type {\n",
       "        vertical-align: middle;\n",
       "    }\n",
       "\n",
       "    .dataframe tbody tr th {\n",
       "        vertical-align: top;\n",
       "    }\n",
       "\n",
       "    .dataframe thead th {\n",
       "        text-align: right;\n",
       "    }\n",
       "</style>\n",
       "<table border=\"1\" class=\"dataframe\">\n",
       "  <thead>\n",
       "    <tr style=\"text-align: right;\">\n",
       "      <th></th>\n",
       "      <th>date</th>\n",
       "      <th>armed</th>\n",
       "      <th>age</th>\n",
       "      <th>race</th>\n",
       "      <th>city</th>\n",
       "      <th>state</th>\n",
       "      <th>signs_of_mental_illness</th>\n",
       "      <th>threat_level</th>\n",
       "      <th>flee</th>\n",
       "      <th>body_camera</th>\n",
       "      <th>longitude</th>\n",
       "      <th>latitude</th>\n",
       "    </tr>\n",
       "  </thead>\n",
       "  <tbody>\n",
       "    <tr>\n",
       "      <th>0</th>\n",
       "      <td>2015-01-02</td>\n",
       "      <td>gun</td>\n",
       "      <td>53.0</td>\n",
       "      <td>American Native</td>\n",
       "      <td>Shelton</td>\n",
       "      <td>Washington</td>\n",
       "      <td>True</td>\n",
       "      <td>attack</td>\n",
       "      <td>Not fleeing</td>\n",
       "      <td>False</td>\n",
       "      <td>-123.122</td>\n",
       "      <td>47.247</td>\n",
       "    </tr>\n",
       "    <tr>\n",
       "      <th>1</th>\n",
       "      <td>2015-01-02</td>\n",
       "      <td>gun</td>\n",
       "      <td>47.0</td>\n",
       "      <td>White</td>\n",
       "      <td>Aloha</td>\n",
       "      <td>Oregon</td>\n",
       "      <td>False</td>\n",
       "      <td>attack</td>\n",
       "      <td>Not fleeing</td>\n",
       "      <td>False</td>\n",
       "      <td>-122.892</td>\n",
       "      <td>45.487</td>\n",
       "    </tr>\n",
       "    <tr>\n",
       "      <th>2</th>\n",
       "      <td>2015-01-03</td>\n",
       "      <td>unarmed</td>\n",
       "      <td>23.0</td>\n",
       "      <td>Hispanic</td>\n",
       "      <td>Wichita</td>\n",
       "      <td>Kansas</td>\n",
       "      <td>False</td>\n",
       "      <td>other</td>\n",
       "      <td>Not fleeing</td>\n",
       "      <td>False</td>\n",
       "      <td>-97.281</td>\n",
       "      <td>37.695</td>\n",
       "    </tr>\n",
       "    <tr>\n",
       "      <th>3</th>\n",
       "      <td>2015-01-04</td>\n",
       "      <td>toy gun</td>\n",
       "      <td>32.0</td>\n",
       "      <td>White</td>\n",
       "      <td>San Francisco</td>\n",
       "      <td>California</td>\n",
       "      <td>True</td>\n",
       "      <td>attack</td>\n",
       "      <td>Not fleeing</td>\n",
       "      <td>False</td>\n",
       "      <td>-122.422</td>\n",
       "      <td>37.763</td>\n",
       "    </tr>\n",
       "    <tr>\n",
       "      <th>4</th>\n",
       "      <td>2015-01-04</td>\n",
       "      <td>miscellaneous lethal weapons</td>\n",
       "      <td>39.0</td>\n",
       "      <td>Hispanic</td>\n",
       "      <td>Evans</td>\n",
       "      <td>Colorado</td>\n",
       "      <td>False</td>\n",
       "      <td>attack</td>\n",
       "      <td>Not fleeing</td>\n",
       "      <td>False</td>\n",
       "      <td>-104.692</td>\n",
       "      <td>40.384</td>\n",
       "    </tr>\n",
       "    <tr>\n",
       "      <th>...</th>\n",
       "      <td>...</td>\n",
       "      <td>...</td>\n",
       "      <td>...</td>\n",
       "      <td>...</td>\n",
       "      <td>...</td>\n",
       "      <td>...</td>\n",
       "      <td>...</td>\n",
       "      <td>...</td>\n",
       "      <td>...</td>\n",
       "      <td>...</td>\n",
       "      <td>...</td>\n",
       "      <td>...</td>\n",
       "    </tr>\n",
       "    <tr>\n",
       "      <th>7724</th>\n",
       "      <td>2022-09-07</td>\n",
       "      <td>sharp object</td>\n",
       "      <td>35.0</td>\n",
       "      <td>NG</td>\n",
       "      <td>Flagstaff</td>\n",
       "      <td>Arizona</td>\n",
       "      <td>False</td>\n",
       "      <td>other</td>\n",
       "      <td>Foot</td>\n",
       "      <td>False</td>\n",
       "      <td>-111.584</td>\n",
       "      <td>35.224</td>\n",
       "    </tr>\n",
       "    <tr>\n",
       "      <th>7725</th>\n",
       "      <td>2022-09-07</td>\n",
       "      <td>gun</td>\n",
       "      <td>35.0</td>\n",
       "      <td>White</td>\n",
       "      <td>Springville</td>\n",
       "      <td>Alabama</td>\n",
       "      <td>False</td>\n",
       "      <td>attack</td>\n",
       "      <td>Car</td>\n",
       "      <td>False</td>\n",
       "      <td>-86.472</td>\n",
       "      <td>33.775</td>\n",
       "    </tr>\n",
       "    <tr>\n",
       "      <th>7726</th>\n",
       "      <td>2022-09-07</td>\n",
       "      <td>knife</td>\n",
       "      <td>61.0</td>\n",
       "      <td>Black</td>\n",
       "      <td>St. Louis</td>\n",
       "      <td>Missouri</td>\n",
       "      <td>False</td>\n",
       "      <td>other</td>\n",
       "      <td>Not fleeing</td>\n",
       "      <td>False</td>\n",
       "      <td>-90.290</td>\n",
       "      <td>38.668</td>\n",
       "    </tr>\n",
       "    <tr>\n",
       "      <th>7727</th>\n",
       "      <td>2022-09-07</td>\n",
       "      <td>gun</td>\n",
       "      <td>27.0</td>\n",
       "      <td>NG</td>\n",
       "      <td>Washington County</td>\n",
       "      <td>Tennessee</td>\n",
       "      <td>False</td>\n",
       "      <td>attack</td>\n",
       "      <td>Other</td>\n",
       "      <td>False</td>\n",
       "      <td>-82.539</td>\n",
       "      <td>36.309</td>\n",
       "    </tr>\n",
       "    <tr>\n",
       "      <th>7728</th>\n",
       "      <td>2022-09-07</td>\n",
       "      <td>gun</td>\n",
       "      <td>30.0</td>\n",
       "      <td>NG</td>\n",
       "      <td>Columbus</td>\n",
       "      <td>Georgia</td>\n",
       "      <td>False</td>\n",
       "      <td>attack</td>\n",
       "      <td>Foot</td>\n",
       "      <td>False</td>\n",
       "      <td>-112.152</td>\n",
       "      <td>-112.152</td>\n",
       "    </tr>\n",
       "  </tbody>\n",
       "</table>\n",
       "<p>7729 rows × 12 columns</p>\n",
       "</div>"
      ],
      "text/plain": [
       "           date                         armed   age             race  \\\n",
       "0    2015-01-02                           gun  53.0  American Native   \n",
       "1    2015-01-02                           gun  47.0            White   \n",
       "2    2015-01-03                       unarmed  23.0         Hispanic   \n",
       "3    2015-01-04                       toy gun  32.0            White   \n",
       "4    2015-01-04  miscellaneous lethal weapons  39.0         Hispanic   \n",
       "...         ...                           ...   ...              ...   \n",
       "7724 2022-09-07                  sharp object  35.0               NG   \n",
       "7725 2022-09-07                           gun  35.0            White   \n",
       "7726 2022-09-07                         knife  61.0            Black   \n",
       "7727 2022-09-07                           gun  27.0               NG   \n",
       "7728 2022-09-07                           gun  30.0               NG   \n",
       "\n",
       "                   city       state  signs_of_mental_illness threat_level  \\\n",
       "0               Shelton  Washington                     True       attack   \n",
       "1                 Aloha      Oregon                    False       attack   \n",
       "2               Wichita      Kansas                    False        other   \n",
       "3         San Francisco  California                     True       attack   \n",
       "4                 Evans    Colorado                    False       attack   \n",
       "...                 ...         ...                      ...          ...   \n",
       "7724          Flagstaff     Arizona                    False        other   \n",
       "7725        Springville     Alabama                    False       attack   \n",
       "7726          St. Louis    Missouri                    False        other   \n",
       "7727  Washington County   Tennessee                    False       attack   \n",
       "7728           Columbus     Georgia                    False       attack   \n",
       "\n",
       "             flee  body_camera  longitude  latitude  \n",
       "0     Not fleeing        False   -123.122    47.247  \n",
       "1     Not fleeing        False   -122.892    45.487  \n",
       "2     Not fleeing        False    -97.281    37.695  \n",
       "3     Not fleeing        False   -122.422    37.763  \n",
       "4     Not fleeing        False   -104.692    40.384  \n",
       "...           ...          ...        ...       ...  \n",
       "7724         Foot        False   -111.584    35.224  \n",
       "7725          Car        False    -86.472    33.775  \n",
       "7726  Not fleeing        False    -90.290    38.668  \n",
       "7727        Other        False    -82.539    36.309  \n",
       "7728         Foot        False   -112.152  -112.152  \n",
       "\n",
       "[7729 rows x 12 columns]"
      ]
     },
     "execution_count": 7,
     "metadata": {},
     "output_type": "execute_result"
    }
   ],
   "source": [
    "police_shooting"
   ]
  },
  {
   "cell_type": "code",
   "execution_count": 8,
   "metadata": {},
   "outputs": [],
   "source": [
    "def filter_data(df: pd.DataFrame, state: str = None, race: str= None, armed: str = None, flee: str = None):    \n",
    "    columns: list[str] = ['date']\n",
    "    query: list[str] = []\n",
    "    \n",
    "    if state:\n",
    "        columns.append('state')\n",
    "        query.append(f'state == \"{state}\"')\n",
    "    if race:\n",
    "        columns.append('race')\n",
    "        query.append(f'race == \"{race}\"')\n",
    "    if armed:\n",
    "        columns.append('armed')\n",
    "        query.append(f'armed == \"{armed}\"')\n",
    "    if flee:\n",
    "        columns.append('flee')\n",
    "        query.append(f'flee == \"{flee}\"')\n",
    "    \n",
    "    df = df[columns].reset_index(drop=True)\n",
    "    df = df.query(' and '.join(query))\n",
    "    return df"
   ]
  },
  {
   "cell_type": "code",
   "execution_count": 9,
   "metadata": {},
   "outputs": [],
   "source": [
    "def resample(df: pd.DataFrame, sample: str):\n",
    "    df = df.set_index('date')\n",
    "    \n",
    "    df1 = df.resample(sample).agg({ df.columns[0]: 'size' })\n",
    "    df1 = df1.rename({df.columns[0]: 'count'}, axis=1)\n",
    "    # for index, column in enumerate(df.columns):\n",
    "    #     df1.insert(index, column, df[column].iloc[0])\n",
    "    return df1"
   ]
  },
  {
   "cell_type": "code",
   "execution_count": 10,
   "metadata": {},
   "outputs": [],
   "source": [
    "def extract_date_feature(date: datetime.datetime):\n",
    "    return sin_transformer(12).fit_transform(date.month), cos_transformer(12).fit_transform(date.month), sin_transformer(365).fit_transform(date.timetuple().tm_yday), cos_transformer(12).fit_transform(date.timetuple().tm_yday)"
   ]
  },
  {
   "cell_type": "code",
   "execution_count": 11,
   "metadata": {},
   "outputs": [],
   "source": [
    "def extract_date_feature_from_df(df: pd.DataFrame):\n",
    "    df.insert(0, \"month\", df.index.month)\n",
    "    df.insert(1, \"day_of_year\", df.index.day_of_year)\n",
    "    \n",
    "    df.insert(2, \"month_sin\", sin_transformer(12).fit_transform(df[\"month\"]))\n",
    "    df.insert(3, \"month_cos\", cos_transformer(12).fit_transform(df[\"month\"]))\n",
    "\n",
    "    df.insert(4, \"day_sin\", sin_transformer(365).fit_transform(df[\"day_of_year\"]))\n",
    "    df.insert(5, \"day_cos\", cos_transformer(365).fit_transform(df[\"day_of_year\"]))\n",
    "    \n",
    "    df.drop(columns=['month', 'day_of_year'], inplace=True)\n",
    "    \n",
    "    return df"
   ]
  },
  {
   "cell_type": "code",
   "execution_count": 55,
   "metadata": {},
   "outputs": [],
   "source": [
    "def predict_trend(state: str = None, race: str = None, armed: str = None, flee: str = None):\n",
    "    dataset = resample(filter_data(police_shooting, state=state, race=race, armed=armed, flee=flee), 'W')\n",
    "    dataset = dataset.rename({'count': 'y'}, axis=1)\n",
    "    dataset['y'] = dataset['y'].astype(int)\n",
    "    \n",
    "    dataset = dataset.reset_index()\n",
    "    \n",
    "    dataset = dataset.rename({'date': 'ds', 'y': 'y'}, axis=1)\n",
    "    \n",
    "    m = Prophet()\n",
    "    m.fit(dataset)\n",
    "    \n",
    "    future = m.make_future_dataframe(periods=30, freq='W')\n",
    "    future.tail()\n",
    "    \n",
    "    forecast = m.predict(future)\n",
    "    \n",
    "    # m.plot(forecast)\n",
    "    \n",
    "    # m.plot_components(forecast)\n",
    "    \n",
    "    return dataset, m, forecast"
   ]
  },
  {
   "cell_type": "code",
   "execution_count": 29,
   "metadata": {},
   "outputs": [
    {
     "data": {
      "text/plain": [
       "array(['Washington', 'Oregon', 'Kansas', 'California', 'Colorado',\n",
       "       'Oklahoma', 'Arizona', 'Iowa', 'Pennsylvania', 'Texas', 'Ohio',\n",
       "       'Louisiana', 'Montana', 'Utah', 'Arkansas', 'Illinois', 'Nevada',\n",
       "       'New Mexico', 'Minnesota', 'Missouri', 'Virginia', 'New Jersey',\n",
       "       'Indiana', 'Kentucky', 'Massachusetts', 'New Hampshire', 'Florida',\n",
       "       'Idaho', 'Maryland', 'Nebraska', 'Michigan', 'Georgia',\n",
       "       'Tennessee', 'North Carolina', 'Alaska', 'New York', 'Maine',\n",
       "       'Alabama', 'Mississippi', 'Wisconsin', 'South Carolina',\n",
       "       'Delaware', 'District of Columbia', 'West Virginia', 'Hawaii',\n",
       "       'Wyoming', 'North Dakota', 'Connecticut', 'South Dakota',\n",
       "       'Vermont', 'Rhode Island'], dtype=object)"
      ]
     },
     "execution_count": 29,
     "metadata": {},
     "output_type": "execute_result"
    }
   ],
   "source": [
    "available_states"
   ]
  },
  {
   "cell_type": "code",
   "execution_count": 30,
   "metadata": {},
   "outputs": [
    {
     "data": {
      "text/plain": [
       "array(['American Native', 'White', 'Hispanic', 'Black', 'NG',\n",
       "       'Not Hispanic'], dtype=object)"
      ]
     },
     "execution_count": 30,
     "metadata": {},
     "output_type": "execute_result"
    }
   ],
   "source": [
    "available_races"
   ]
  },
  {
   "cell_type": "code",
   "execution_count": 31,
   "metadata": {},
   "outputs": [],
   "source": [
    "available_arms = np.delete(available_arms, np.where(available_arms == 'claimed to be armed'))"
   ]
  },
  {
   "cell_type": "code",
   "execution_count": 32,
   "metadata": {},
   "outputs": [
    {
     "data": {
      "text/plain": [
       "array(['Not fleeing', 'Car', 'Foot', 'Other', 'NG'], dtype=object)"
      ]
     },
     "execution_count": 32,
     "metadata": {},
     "output_type": "execute_result"
    }
   ],
   "source": [
    "available_flee"
   ]
  },
  {
   "cell_type": "code",
   "execution_count": 56,
   "metadata": {},
   "outputs": [],
   "source": [
    "def preidct(column_type: str):\n",
    "    avilable_types: list[str] = []\n",
    "    \n",
    "    if column_type == 'state':\n",
    "        avilable_types = available_states\n",
    "    elif column_type == 'race':\n",
    "        avilable_types = available_races\n",
    "    elif column_type == 'armed':\n",
    "        avilable_types = available_arms\n",
    "    elif column_type == 'flee':\n",
    "        avilable_types = available_flee\n",
    "    \n",
    "    predict_ds = pd.DataFrame([], columns=['date', column_type, 'shooting count'])\n",
    "    for avilable_type in avilable_types:\n",
    "        function_parameter = { column_type: avilable_type }\n",
    "        org_dataset, m, forecast = predict_trend(**function_parameter)\n",
    "        forecast[column_type] = avilable_type\n",
    "        forecast = forecast.rename({ 'ds': 'date', 'yhat': 'shooting count' }, axis=1)\n",
    "        predict_ds = pd.concat([predict_ds, forecast[['date', column_type, 'shooting count']]], axis=0)\n",
    "    predict_ds.to_csv(f'{column_type}-predict.csv', index=False)"
   ]
  },
  {
   "cell_type": "code",
   "execution_count": 60,
   "metadata": {},
   "outputs": [
    {
     "name": "stderr",
     "output_type": "stream",
     "text": [
      "03:39:12 - cmdstanpy - INFO - Chain [1] start processing\n",
      "03:39:12 - cmdstanpy - INFO - Chain [1] done processing\n",
      "03:39:13 - cmdstanpy - INFO - Chain [1] start processing\n",
      "03:39:13 - cmdstanpy - INFO - Chain [1] done processing\n",
      "03:39:13 - cmdstanpy - INFO - Chain [1] start processing\n",
      "03:39:13 - cmdstanpy - INFO - Chain [1] done processing\n",
      "03:39:14 - cmdstanpy - INFO - Chain [1] start processing\n",
      "03:39:14 - cmdstanpy - INFO - Chain [1] done processing\n",
      "03:39:14 - cmdstanpy - INFO - Chain [1] start processing\n",
      "03:39:14 - cmdstanpy - INFO - Chain [1] done processing\n"
     ]
    }
   ],
   "source": [
    "preidct(column_type = 'flee')"
   ]
  }
 ],
 "metadata": {
  "kernelspec": {
   "display_name": "Python 3.9.12 ('spoorassignment')",
   "language": "python",
   "name": "python3"
  },
  "language_info": {
   "codemirror_mode": {
    "name": "ipython",
    "version": 3
   },
   "file_extension": ".py",
   "mimetype": "text/x-python",
   "name": "python",
   "nbconvert_exporter": "python",
   "pygments_lexer": "ipython3",
   "version": "3.9.12"
  },
  "orig_nbformat": 4,
  "vscode": {
   "interpreter": {
    "hash": "2cb88af4b5c1d307a920c455113d10d0b6b11af2cc1a8de9848463d20000563c"
   }
  }
 },
 "nbformat": 4,
 "nbformat_minor": 2
}
